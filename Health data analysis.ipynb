{
 "cells": [
  {
   "cell_type": "markdown",
   "id": "b4b31296",
   "metadata": {},
   "source": [
    "# مشروع تحليل بيانات صحية\n",
    "\n",
    "هذا الدفتر يحتوي على تحليل مبسط لبيانات صحية تهدف إلى استكشاف العلاقة بين بعض المؤشرات الصحية مثل معدل ضربات القلب، مؤشر كتلة الجسم (BMI)، وعدد ساعات النوم، وغيرها."
   ]
  },
  {
   "cell_type": "code",
   "execution_count": null,
   "id": "0736b857",
   "metadata": {},
   "outputs": [],
   "source": [
    "# استيراد المكتبات اللازمة\n",
    "import pandas as pd\n",
    "import numpy as np\n",
    "import matplotlib.pyplot as plt\n",
    "import seaborn as sns\n",
    "\n",
    "sns.set(style='whitegrid')"
   ]
  },
  {
   "cell_type": "code",
   "execution_count": null,
   "id": "40f40ccc",
   "metadata": {},
   "outputs": [],
   "source": [
    "# إنشاء بيانات صحية وهمية\n",
    "np.random.seed(0)\n",
    "data = pd.DataFrame({\n",
    "    'العمر': np.random.randint(18, 65, 100),\n",
    "    'معدل_ضربات_القلب': np.random.randint(60, 100, 100),\n",
    "    'BMI': np.round(np.random.normal(25, 4, 100), 1),\n",
    "    'ساعات_النوم': np.round(np.random.normal(7, 1.5, 100), 1),\n",
    "    'النشاط_اليومي': np.random.choice(['مرتفع', 'متوسط', 'منخفض'], 100)\n",
    "})\n",
    "data.head()"
   ]
  },
  {
   "cell_type": "markdown",
   "id": "ac42dad6",
   "metadata": {},
   "source": [
    "## تحليل وصفي للبيانات"
   ]
  },
  {
   "cell_type": "code",
   "execution_count": null,
   "id": "61129c24",
   "metadata": {},
   "outputs": [],
   "source": [
    "data.describe()"
   ]
  },
  {
   "cell_type": "markdown",
   "id": "01c6985b",
   "metadata": {},
   "source": [
    "## تحليل بصري"
   ]
  },
  {
   "cell_type": "code",
   "execution_count": null,
   "id": "265797df",
   "metadata": {},
   "outputs": [],
   "source": [
    "# توزيع BMI\n",
    "plt.figure(figsize=(8,4))\n",
    "sns.histplot(data['BMI'], kde=True, color='skyblue')\n",
    "plt.title('توزيع مؤشر كتلة الجسم (BMI)')\n",
    "plt.xlabel('BMI')\n",
    "plt.ylabel('التكرار')\n",
    "plt.show()"
   ]
  },
  {
   "cell_type": "code",
   "execution_count": null,
   "id": "b18025f7",
   "metadata": {},
   "outputs": [],
   "source": [
    "# متوسط معدل ضربات القلب حسب النشاط اليومي\n",
    "plt.figure(figsize=(8,4))\n",
    "sns.barplot(x='النشاط_اليومي', y='معدل_ضربات_القلب', data=data, palette='Set2')\n",
    "plt.title('معدل ضربات القلب حسب النشاط اليومي')\n",
    "plt.ylabel('معدل ضربات القلب')\n",
    "plt.xlabel('النشاط اليومي')\n",
    "plt.show()"
   ]
  },
  {
   "cell_type": "code",
   "execution_count": null,
   "id": "49b6daf9",
   "metadata": {},
   "outputs": [],
   "source": [
    "# العلاقة بين ساعات النوم و BMI\n",
    "plt.figure(figsize=(8,4))\n",
    "sns.scatterplot(x='ساعات_النوم', y='BMI', data=data, hue='النشاط_اليومي')\n",
    "plt.title('العلاقة بين ساعات النوم و BMI')\n",
    "plt.xlabel('ساعات النوم')\n",
    "plt.ylabel('BMI')\n",
    "plt.show()"
   ]
  },
  {
   "cell_type": "markdown",
   "id": "cc9b8587",
   "metadata": {},
   "source": [
    "## الاستنتاجات\n",
    "- معظم الأشخاص لديهم BMI بين 20 و 30.\n",
    "- معدل ضربات القلب يكون أعلى لدى الأشخاص ذوي النشاط المنخفض.\n",
    "- قد تكون هناك علاقة بين قلة النوم وارتفاع BMI.\n",
    "\n",
    "هذا التحليل يقدم لمحة مبدئية عن بيانات صحية باستخدام أدوات تحليل البيانات بلغة Python."
   ]
  }
 ],
 "metadata": {},
 "nbformat": 4,
 "nbformat_minor": 5
}
