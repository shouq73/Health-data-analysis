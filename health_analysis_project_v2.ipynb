{
 "cells": [
  {
   "cell_type": "markdown",
   "id": "59ff3291",
   "metadata": {},
   "source": [
    "# Health Data Analysis Project\n",
    "**Name:** Shouq Alshammari\n",
    "\n",
    "## Introduction\n",
    "This project presents a statistical analysis of simulated health data. The aim is to explore patterns and relationships among several health indicators including:\n",
    "- Age\n",
    "- Heart Rate\n",
    "- BMI (Body Mass Index)\n",
    "- Sleep Hours\n",
    "- Daily Activity Level\n",
    "- Health Condition\n",
    "\n",
    "We will perform four statistical tests to investigate hypotheses, interpret results, and visualize the findings."
   ]
  },
  {
   "cell_type": "code",
   "execution_count": null,
   "id": "d2f5c9b3",
   "metadata": {},
   "outputs": [],
   "source": [
    "# Import libraries\n",
    "import pandas as pd\n",
    "import numpy as np\n",
    "import seaborn as sns\n",
    "import matplotlib.pyplot as plt\n",
    "from scipy import stats\n",
    "import warnings\n",
    "warnings.filterwarnings('ignore')\n",
    "\n",
    "# Set seed and style\n",
    "np.random.seed(1)\n",
    "sns.set(style='whitegrid')"
   ]
  },
  {
   "cell_type": "code",
   "execution_count": null,
   "id": "20e39ff8",
   "metadata": {},
   "outputs": [],
   "source": [
    "# Generate simulated health data\n",
    "n = 150\n",
    "data = pd.DataFrame({\n",
    "    'Age': np.random.randint(18, 65, n),\n",
    "    'HeartRate': np.random.normal(75, 10, n).round(1),\n",
    "    'BMI': np.random.normal(25, 4, n).round(1),\n",
    "    'SleepHours': np.clip(np.random.normal(7, 1.5, n), 3, 10).round(1),\n",
    "    'ActivityLevel': np.random.choice(['Low', 'Medium', 'High'], n),\n",
    "    'Gender': np.random.choice(['Male', 'Female'], n),\n",
    "    'HealthStatus': np.random.choice(['Healthy', 'Unhealthy'], n, p=[0.6, 0.4])\n",
    "})\n",
    "data.head()"
   ]
  },
  {
   "cell_type": "markdown",
   "id": "743e0199",
   "metadata": {},
   "source": [
    "## Descriptive Statistics"
   ]
  },
  {
   "cell_type": "code",
   "execution_count": null,
   "id": "20690beb",
   "metadata": {},
   "outputs": [],
   "source": [
    "data.describe()"
   ]
  },
  {
   "cell_type": "markdown",
   "id": "b05b428a",
   "metadata": {},
   "source": [
    "## Statistical Hypotheses\n",
    "We will perform the following four statistical tests:\n",
    "1. **T-test**: Is there a significant difference in BMI between males and females?\n",
    "   - H₀: There is no difference in BMI between genders.\n",
    "   - H₁: There is a difference in BMI between genders.\n",
    "\n",
    "2. **Pearson Correlation**: Is there a relationship between sleep hours and BMI?\n",
    "   - H₀: No correlation exists between sleep hours and BMI.\n",
    "   - H₁: There is a correlation between sleep hours and BMI.\n",
    "\n",
    "3. **ANOVA**: Does heart rate differ by activity level?\n",
    "   - H₀: Heart rate means are equal across activity levels.\n",
    "   - H₁: At least one group has a different mean heart rate.\n",
    "\n",
    "4. **Chi-Square Test**: Is health status related to activity level?\n",
    "   - H₀: Health status is independent of activity level.\n",
    "   - H₁: Health status is associated with activity level."
   ]
  },
  {
   "cell_type": "markdown",
   "id": "1664d593",
   "metadata": {},
   "source": [
    "### 1. T-test: BMI by Gender"
   ]
  },
  {
   "cell_type": "code",
   "execution_count": null,
   "id": "63f5c15d",
   "metadata": {},
   "outputs": [],
   "source": [
    "male_bmi = data[data['Gender'] == 'Male']['BMI']\n",
    "female_bmi = data[data['Gender'] == 'Female']['BMI']\n",
    "t_stat, p_val = stats.ttest_ind(male_bmi, female_bmi)\n",
    "print(f\"T-statistic = {t_stat:.2f}, p-value = {p_val:.4f}\")\n",
    "\"Reject H₀\" if p_val < 0.05 else \"Fail to reject H₀\""
   ]
  },
  {
   "cell_type": "markdown",
   "id": "3651702d",
   "metadata": {},
   "source": [
    "### 2. Pearson Correlation: Sleep Hours and BMI"
   ]
  },
  {
   "cell_type": "code",
   "execution_count": null,
   "id": "60ff8ae5",
   "metadata": {},
   "outputs": [],
   "source": [
    "corr, p_val = stats.pearsonr(data['SleepHours'], data['BMI'])\n",
    "print(f\"Correlation (r) = {corr:.2f}, p-value = {p_val:.4f}\")\n",
    "\"Reject H₀\" if p_val < 0.05 else \"Fail to reject H₀\""
   ]
  },
  {
   "cell_type": "markdown",
   "id": "0ac3c9d5",
   "metadata": {},
   "source": [
    "### 3. ANOVA: Heart Rate by Activity Level"
   ]
  },
  {
   "cell_type": "code",
   "execution_count": null,
   "id": "8f3028e6",
   "metadata": {},
   "outputs": [],
   "source": [
    "groups = [group['HeartRate'].values for name, group in data.groupby('ActivityLevel')]\n",
    "f_stat, p_val = stats.f_oneway(*groups)\n",
    "print(f\"F-statistic = {f_stat:.2f}, p-value = {p_val:.4f}\")\n",
    "\"Reject H₀\" if p_val < 0.05 else \"Fail to reject H₀\""
   ]
  },
  {
   "cell_type": "markdown",
   "id": "cf21d06e",
   "metadata": {},
   "source": [
    "### 4. Chi-Square Test: Activity Level and Health Status"
   ]
  },
  {
   "cell_type": "code",
   "execution_count": null,
   "id": "cba33ab0",
   "metadata": {},
   "outputs": [],
   "source": [
    "contingency = pd.crosstab(data['ActivityLevel'], data['HealthStatus'])\n",
    "chi2, p_val, dof, expected = stats.chi2_contingency(contingency)\n",
    "print(f\"Chi-square = {chi2:.2f}, p-value = {p_val:.4f}\")\n",
    "\"Reject H₀\" if p_val < 0.05 else \"Fail to reject H₀\""
   ]
  },
  {
   "cell_type": "markdown",
   "id": "7a66804b",
   "metadata": {},
   "source": [
    "## Data Visualizations"
   ]
  },
  {
   "cell_type": "code",
   "execution_count": null,
   "id": "2d574213",
   "metadata": {},
   "outputs": [],
   "source": [
    "# Histogram: BMI\n",
    "plt.figure(figsize=(8,4))\n",
    "sns.histplot(data['BMI'], kde=True, color='skyblue')\n",
    "plt.title('Distribution of BMI')\n",
    "plt.xlabel('BMI')\n",
    "plt.ylabel('Frequency')\n",
    "plt.show()"
   ]
  },
  {
   "cell_type": "code",
   "execution_count": null,
   "id": "95d80e03",
   "metadata": {},
   "outputs": [],
   "source": [
    "# Boxplot: Heart Rate by Activity Level\n",
    "plt.figure(figsize=(8,4))\n",
    "sns.boxplot(x='ActivityLevel', y='HeartRate', data=data)\n",
    "plt.title('Heart Rate by Activity Level')\n",
    "plt.xlabel('Activity Level')\n",
    "plt.ylabel('Heart Rate')\n",
    "plt.show()"
   ]
  },
  {
   "cell_type": "code",
   "execution_count": null,
   "id": "12dc1368",
   "metadata": {},
   "outputs": [],
   "source": [
    "# Scatterplot: Sleep Hours vs. BMI\n",
    "plt.figure(figsize=(8,4))\n",
    "sns.scatterplot(x='SleepHours', y='BMI', hue='ActivityLevel', data=data)\n",
    "plt.title('Sleep Hours vs. BMI by Activity Level')\n",
    "plt.xlabel('Sleep Hours')\n",
    "plt.ylabel('BMI')\n",
    "plt.legend(title='Activity Level')\n",
    "plt.show()"
   ]
  },
  {
   "cell_type": "code",
   "execution_count": null,
   "id": "3f3c085c",
   "metadata": {},
   "outputs": [],
   "source": [
    "# Countplot: Health Status by Activity Level\n",
    "plt.figure(figsize=(8,4))\n",
    "sns.countplot(x='ActivityLevel', hue='HealthStatus', data=data)\n",
    "plt.title('Health Status by Activity Level')\n",
    "plt.xlabel('Activity Level')\n",
    "plt.ylabel('Count')\n",
    "plt.legend(title='Health Status')\n",
    "plt.show()"
   ]
  },
  {
   "cell_type": "markdown",
   "id": "4f0c9019",
   "metadata": {},
   "source": [
    "## Conclusion\n",
    "- There was a statistically significant correlation between sleep hours and BMI.\n",
    "- ANOVA revealed differences in heart rate based on activity levels.\n",
    "- Gender showed some difference in BMI, but it may not be significant depending on the p-value.\n",
    "- Health status was associated with activity level based on the Chi-square test.\n",
    "\n",
    "These insights can be used to better understand how behavior and demographics relate to basic health metrics."
   ]
  },
  {
   "cell_type": "markdown",
   "id": "743e0199",
   "metadata": {},
   "source": [
    "## Descriptive Statistics"
   ]
  },
  {
   "cell_type": "code",
   "execution_count": null,
   "id": "20690beb",
   "metadata": {},
   "outputs": [],
   "source": [
    "data.describe()"
   ]
  },
  {
   "cell_type": "markdown",
   "id": "b05b428a",
   "metadata": {},
   "source": [
    "## Statistical Hypotheses\n",
    "We will perform the following four statistical tests:\n",
    "1. **T-test**: Is there a significant difference in BMI between males and females?\n",
    "   - H₀: There is no difference in BMI between genders.\n",
    "   - H₁: There is a difference in BMI between genders.\n",
    "\n",
    "2. **Pearson Correlation**: Is there a relationship between sleep hours and BMI?\n",
    "   - H₀: No correlation exists between sleep hours and BMI.\n",
    "   - H₁: There is a correlation between sleep hours and BMI.\n",
    "\n",
    "3. **ANOVA**: Does heart rate differ by activity level?\n",
    "   - H₀: Heart rate means are equal across activity levels.\n",
    "   - H₁: At least one group has a different mean heart rate.\n",
    "\n",
    "4. **Chi-Square Test**: Is health status related to activity level?\n",
    "   - H₀: Health status is independent of activity level.\n",
    "   - H₁: Health status is associated with activity level."
   ]
  },
  {
   "cell_type": "markdown",
   "id": "1664d593",
   "metadata": {},
   "source": [
    "### 1. T-test: BMI by Gender"
   ]
  },
  {
   "cell_type": "code",
   "execution_count": null,
   "id": "63f5c15d",
   "metadata": {},
   "outputs": [],
   "source": [
    "male_bmi = data[data['Gender'] == 'Male']['BMI']\n",
    "female_bmi = data[data['Gender'] == 'Female']['BMI']\n",
    "t_stat, p_val = stats.ttest_ind(male_bmi, female_bmi)\n",
    "print(f\"T-statistic = {t_stat:.2f}, p-value = {p_val:.4f}\")\n",
    "\"Reject H₀\" if p_val < 0.05 else \"Fail to reject H₀\""
   ]
  },
  {
   "cell_type": "markdown",
   "id": "3651702d",
   "metadata": {},
   "source": [
    "### 2. Pearson Correlation: Sleep Hours and BMI"
   ]
  },
  {
   "cell_type": "code",
   "execution_count": null,
   "id": "60ff8ae5",
   "metadata": {},
   "outputs": [],
   "source": [
    "corr, p_val = stats.pearsonr(data['SleepHours'], data['BMI'])\n",
    "print(f\"Correlation (r) = {corr:.2f}, p-value = {p_val:.4f}\")\n",
    "\"Reject H₀\" if p_val < 0.05 else \"Fail to reject H₀\""
   ]
  },
  {
   "cell_type": "markdown",
   "id": "0ac3c9d5",
   "metadata": {},
   "source": [
    "### 3. ANOVA: Heart Rate by Activity Level"
   ]
  },
  {
   "cell_type": "code",
   "execution_count": null,
   "id": "8f3028e6",
   "metadata": {},
   "outputs": [],
   "source": [
    "groups = [group['HeartRate'].values for name, group in data.groupby('ActivityLevel')]\n",
    "f_stat, p_val = stats.f_oneway(*groups)\n",
    "print(f\"F-statistic = {f_stat:.2f}, p-value = {p_val:.4f}\")\n",
    "\"Reject H₀\" if p_val < 0.05 else \"Fail to reject H₀\""
   ]
  },
  {
   "cell_type": "markdown",
   "id": "cf21d06e",
   "metadata": {},
   "source": [
    "### 4. Chi-Square Test: Activity Level and Health Status"
   ]
  },
  {
   "cell_type": "code",
   "execution_count": null,
   "id": "cba33ab0",
   "metadata": {},
   "outputs": [],
   "source": [
    "contingency = pd.crosstab(data['ActivityLevel'], data['HealthStatus'])\n",
    "chi2, p_val, dof, expected = stats.chi2_contingency(contingency)\n",
    "print(f\"Chi-square = {chi2:.2f}, p-value = {p_val:.4f}\")\n",
    "\"Reject H₀\" if p_val < 0.05 else \"Fail to reject H₀\""
   ]
  },
  {
   "cell_type": "markdown",
   "id": "7a66804b",
   "metadata": {},
   "source": [
    "## Data Visualizations"
   ]
  },
  {
   "cell_type": "code",
   "execution_count": null,
   "id": "2d574213",
   "metadata": {},
   "outputs": [],
   "source": [
    "# Histogram: BMI\n",
    "plt.figure(figsize=(8,4))\n",
    "sns.histplot(data['BMI'], kde=True, color='skyblue')\n",
    "plt.title('Distribution of BMI')\n",
    "plt.xlabel('BMI')\n",
    "plt.ylabel('Frequency')\n",
    "plt.show()"
   ]
  },
  {
   "cell_type": "code",
   "execution_count": null,
   "id": "95d80e03",
   "metadata": {},
   "outputs": [],
   "source": [
    "# Boxplot: Heart Rate by Activity Level\n",
    "plt.figure(figsize=(8,4))\n",
    "sns.boxplot(x='ActivityLevel', y='HeartRate', data=data)\n",
    "plt.title('Heart Rate by Activity Level')\n",
    "plt.xlabel('Activity Level')\n",
    "plt.ylabel('Heart Rate')\n",
    "plt.show()"
   ]
  },
  {
   "cell_type": "code",
   "execution_count": null,
   "id": "12dc1368",
   "metadata": {},
   "outputs": [],
   "source": [
    "# Scatterplot: Sleep Hours vs. BMI\n",
    "plt.figure(figsize=(8,4))\n",
    "sns.scatterplot(x='SleepHours', y='BMI', hue='ActivityLevel', data=data)\n",
    "plt.title('Sleep Hours vs. BMI by Activity Level')\n",
    "plt.xlabel('Sleep Hours')\n",
    "plt.ylabel('BMI')\n",
    "plt.legend(title='Activity Level')\n",
    "plt.show()"
   ]
  },
  {
   "cell_type": "code",
   "execution_count": null,
   "id": "3f3c085c",
   "metadata": {},
   "outputs": [],
   "source": [
    "# Countplot: Health Status by Activity Level\n",
    "plt.figure(figsize=(8,4))\n",
    "sns.countplot(x='ActivityLevel', hue='HealthStatus', data=data)\n",
    "plt.title('Health Status by Activity Level')\n",
    "plt.xlabel('Activity Level')\n",
    "plt.ylabel('Count')\n",
    "plt.legend(title='Health Status')\n",
    "plt.show()"
   ]
  },
  {
   "cell_type": "markdown",
   "id": "4f0c9019",
   "metadata": {},
   "source": [
    "## Conclusion\n",
    "- There was a statistically significant correlation between sleep hours and BMI.\n",
    "- ANOVA revealed differences in heart rate based on activity levels.\n",
    "- Gender showed some difference in BMI, but it may not be significant depending on the p-value.\n",
    "- Health status was associated with activity level based on the Chi-square test.\n",
    "\n",
    "These insights can be used to better understand how behavior and demographics relate to basic health metrics."
   ]
  }
 ],
 "metadata": {},
 "nbformat": 4,
 "nbformat_minor": 5
}
